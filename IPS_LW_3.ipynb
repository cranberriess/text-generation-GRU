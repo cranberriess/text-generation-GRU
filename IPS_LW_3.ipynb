{
  "nbformat": 4,
  "nbformat_minor": 0,
  "metadata": {
    "colab": {
      "provenance": []
    },
    "kernelspec": {
      "name": "python3",
      "display_name": "Python 3"
    },
    "language_info": {
      "name": "python"
    }
  },
  "cells": [
    {
      "cell_type": "code",
      "source": [
        "#from google.colab import drive\n",
        "#drive.mount('/content/drive', force_remount=True)"
      ],
      "metadata": {
        "colab": {
          "base_uri": "https://localhost:8080/"
        },
        "id": "6paHZ70cZd41",
        "outputId": "6470fb3a-4624-4572-d4d3-4786dd573b0f"
      },
      "execution_count": null,
      "outputs": [
        {
          "output_type": "stream",
          "name": "stdout",
          "text": [
            "Mounted at /content/drive\n"
          ]
        }
      ]
    },
    {
      "cell_type": "code",
      "source": [
        "import tensorflow as tf\n",
        "\n",
        "import numpy as np\n",
        "import os\n",
        "import time\n",
        "import urllib.request\n",
        "import re\n",
        "tf.__version__"
      ],
      "metadata": {
        "colab": {
          "base_uri": "https://localhost:8080/",
          "height": 36
        },
        "id": "JBB-tkyt81nK",
        "outputId": "955ea3be-c9a3-4826-b7b1-51fe16d11bd9"
      },
      "execution_count": null,
      "outputs": [
        {
          "output_type": "execute_result",
          "data": {
            "text/plain": [
              "'2.15.0'"
            ],
            "application/vnd.google.colaboratory.intrinsic+json": {
              "type": "string"
            }
          },
          "metadata": {},
          "execution_count": 1
        }
      ]
    },
    {
      "cell_type": "markdown",
      "source": [
        "**Предобработка данных**"
      ],
      "metadata": {
        "id": "NFnoYOARCTVB"
      }
    },
    {
      "cell_type": "markdown",
      "source": [
        "Токенизация и кодирование"
      ],
      "metadata": {
        "id": "zKks2U8nAjRQ"
      }
    },
    {
      "cell_type": "code",
      "source": [
        "url = \"https://www.gutenberg.org/cache/epub/64317/pg64317.txt\"\n",
        "file = urllib.request.urlopen(url)\n",
        "text = [line.decode('utf-8') for line in file]\n",
        "text = ''.join(text)\n",
        "text = re.sub(' +',' ',text)\n",
        "text = re.sub(r'[^A-Za-z.,!\\r ]+', '', text)\n",
        "text = text[1140:]\n",
        "text[:500]"
      ],
      "metadata": {
        "colab": {
          "base_uri": "https://localhost:8080/",
          "height": 70
        },
        "id": "XK-cM-uX9HH3",
        "outputId": "df28e18b-85ae-4c61-97c2-eba33194c604"
      },
      "execution_count": null,
      "outputs": [
        {
          "output_type": "execute_result",
          "data": {
            "text/plain": [
              "'In my younger and more vulnerable years my father gave me some advice\\rthat Ive been turning over in my mind ever since.\\r\\rWhenever you feel like criticizing anyone, he told me, just\\rremember that all the people in this world havent had the advantages\\rthat youve had.\\r\\rHe didnt say any more, but weve always been unusually communicative\\rin a reserved way, and I understood that he meant a great deal more\\rthan that. In consequence, Im inclined to reserve all judgements, a\\rhabit that has opened up many'"
            ],
            "application/vnd.google.colaboratory.intrinsic+json": {
              "type": "string"
            }
          },
          "metadata": {},
          "execution_count": 3
        }
      ]
    },
    {
      "cell_type": "markdown",
      "source": [
        "Извлечение словаря токенов символов из текста"
      ],
      "metadata": {
        "id": "YnVNPB6JAr66"
      }
    },
    {
      "cell_type": "code",
      "source": [
        "vocab = sorted(set(text))\n",
        "\",\".join(vocab)"
      ],
      "metadata": {
        "colab": {
          "base_uri": "https://localhost:8080/",
          "height": 36
        },
        "id": "-CulzbVC9MHR",
        "outputId": "6b44c384-ae1e-4c36-9170-68c3b26dc345"
      },
      "execution_count": null,
      "outputs": [
        {
          "output_type": "execute_result",
          "data": {
            "text/plain": [
              "'\\r, ,!,,,.,A,B,C,D,E,F,G,H,I,J,K,L,M,N,O,P,Q,R,S,T,U,V,W,X,Y,a,b,c,d,e,f,g,h,i,j,k,l,m,n,o,p,q,r,s,t,u,v,w,x,y,z'"
            ],
            "application/vnd.google.colaboratory.intrinsic+json": {
              "type": "string"
            }
          },
          "metadata": {},
          "execution_count": 4
        }
      ]
    },
    {
      "cell_type": "markdown",
      "source": [
        "Кодировка символов и функций отображения"
      ],
      "metadata": {
        "id": "O98yV0O6AwWG"
      }
    },
    {
      "cell_type": "code",
      "source": [
        "#Функции отображения char2idx и idx2char отображают символы в индексы и обратно\n",
        "char2idx = {u:i for i, u in enumerate(vocab)}\n",
        "idx2char = np.array(vocab)\n",
        "\n",
        "text_as_int = np.array([char2idx[c] for c in text])\n",
        "[f\"{char} = {i}\" for char,i in zip(char2idx, range(20))]"
      ],
      "metadata": {
        "colab": {
          "base_uri": "https://localhost:8080/"
        },
        "id": "9iAUGnaI9yzo",
        "outputId": "77f68ee9-7f53-4cfe-f89d-9b320407846e"
      },
      "execution_count": null,
      "outputs": [
        {
          "output_type": "execute_result",
          "data": {
            "text/plain": [
              "['\\r = 0',\n",
              " '  = 1',\n",
              " '! = 2',\n",
              " ', = 3',\n",
              " '. = 4',\n",
              " 'A = 5',\n",
              " 'B = 6',\n",
              " 'C = 7',\n",
              " 'D = 8',\n",
              " 'E = 9',\n",
              " 'F = 10',\n",
              " 'G = 11',\n",
              " 'H = 12',\n",
              " 'I = 13',\n",
              " 'J = 14',\n",
              " 'K = 15',\n",
              " 'L = 16',\n",
              " 'M = 17',\n",
              " 'N = 18',\n",
              " 'O = 19']"
            ]
          },
          "metadata": {},
          "execution_count": 7
        }
      ]
    },
    {
      "cell_type": "markdown",
      "source": [
        "Построение обучающих наборов"
      ],
      "metadata": {
        "id": "oeZVkwLyA29y"
      }
    },
    {
      "cell_type": "code",
      "source": [
        "#Переменная example_per_epoch — это количество выборок или фрагментов текста, которые мы будем передавать модели. char_dataset — это преобразование кодировок text_as_int в тензоры.\n",
        "seq_length = 100\n",
        "examples_per_epoch = len(text)//(seq_length+1)\n",
        "\n",
        "char_dataset = tf.data.Dataset.from_tensor_slices(text_as_int)\n",
        "\n",
        "[idx2char[i.numpy()] for i in char_dataset.take(5)]"
      ],
      "metadata": {
        "colab": {
          "base_uri": "https://localhost:8080/"
        },
        "id": "fXDoUFbF90Uh",
        "outputId": "c8509275-5918-4152-b7d0-c2fee12cf8a7"
      },
      "execution_count": null,
      "outputs": [
        {
          "output_type": "execute_result",
          "data": {
            "text/plain": [
              "['I', 'n', ' ', 'm', 'y']"
            ]
          },
          "metadata": {},
          "execution_count": 8
        }
      ]
    },
    {
      "cell_type": "markdown",
      "source": [
        "Разбиение текста на обучающие последовательности"
      ],
      "metadata": {
        "id": "5MqG17KyBMTN"
      }
    },
    {
      "cell_type": "code",
      "source": [
        "sequences = char_dataset.batch(seq_length+1, drop_remainder=True)\n",
        "[repr(''.join(idx2char[item.numpy()])) for item in sequences.take(6)]"
      ],
      "metadata": {
        "colab": {
          "base_uri": "https://localhost:8080/"
        },
        "id": "LVUg8ruT9122",
        "outputId": "8ec5d5f0-71b9-46b0-f668-0a4932822dbe"
      },
      "execution_count": null,
      "outputs": [
        {
          "output_type": "execute_result",
          "data": {
            "text/plain": [
              "[\"'In my younger and more vulnerable years my father gave me some advice\\\\rthat Ive been turning over in m'\",\n",
              " \"'y mind ever since.\\\\r\\\\rWhenever you feel like criticizing anyone, he told me, just\\\\rremember that all the'\",\n",
              " \"' people in this world havent had the advantages\\\\rthat youve had.\\\\r\\\\rHe didnt say any more, but weve alwa'\",\n",
              " \"'ys been unusually communicative\\\\rin a reserved way, and I understood that he meant a great deal more\\\\rt'\",\n",
              " \"'han that. In consequence, Im inclined to reserve all judgements, a\\\\rhabit that has opened up many curi'\",\n",
              " \"'ous natures to me and also made me\\\\rthe victim of not a few veteran bores. The abnormal mind is quick '\"]"
            ]
          },
          "metadata": {},
          "execution_count": 11
        }
      ]
    },
    {
      "cell_type": "markdown",
      "source": [
        "Создание входной и таргетовой последовательности с помощью простой функции карты"
      ],
      "metadata": {
        "id": "eD2M1zv4Bo1F"
      }
    },
    {
      "cell_type": "code",
      "source": [
        "#Поскольку мы обучаем сеть последовательностям, создадим входную последовательность, а затем таргетовую или целевую.\n",
        "#При использовании RNN целевой последовательностью будет входная последовательность, смещенная на один символ\n",
        "\n",
        "@tf.autograph.experimental.do_not_convert\n",
        "def split_input_target(chunk):\n",
        "    input_text = chunk[:-1]\n",
        "    target_text = chunk[1:]\n",
        "    return input_text, target_text\n",
        "\n",
        "dataset = sequences.map(split_input_target)"
      ],
      "metadata": {
        "id": "CBN4ZiA993-R"
      },
      "execution_count": null,
      "outputs": []
    },
    {
      "cell_type": "code",
      "source": [
        "for input_example, target_example in  dataset.take(1):\n",
        "  print ('Input data: ', repr(''.join(idx2char[input_example.numpy()])))\n",
        "  print ('Target data:', repr(''.join(idx2char[target_example.numpy()])))"
      ],
      "metadata": {
        "colab": {
          "base_uri": "https://localhost:8080/"
        },
        "id": "rKq3PgLs95di",
        "outputId": "b56266af-1728-45f6-c7dc-d6d7340dbd1d"
      },
      "execution_count": null,
      "outputs": [
        {
          "output_type": "stream",
          "name": "stdout",
          "text": [
            "Input data:  'In my younger and more vulnerable years my father gave me some advice\\rthat Ive been turning over in '\n",
            "Target data: 'n my younger and more vulnerable years my father gave me some advice\\rthat Ive been turning over in m'\n"
          ]
        }
      ]
    },
    {
      "cell_type": "markdown",
      "source": [
        "Пример входных и ожидаемых выходных данных, к которым будем обучать сеть"
      ],
      "metadata": {
        "id": "6PCaHlX1CFc8"
      }
    },
    {
      "cell_type": "code",
      "source": [
        "for i, (input_idx, target_idx) in enumerate(zip(input_example[:5], target_example[:5])):\n",
        "    print(\"Step {:4d}\".format(i))\n",
        "    print(\"  input: {} ({:s})\".format(input_idx, repr(idx2char[input_idx])))\n",
        "    print(\"  expected output: {} ({:s})\".format(target_idx, repr(idx2char[target_idx])))"
      ],
      "metadata": {
        "colab": {
          "base_uri": "https://localhost:8080/"
        },
        "id": "dDd5VDi4962F",
        "outputId": "dcbc0c99-b789-436a-bb14-849d019382c5"
      },
      "execution_count": null,
      "outputs": [
        {
          "output_type": "stream",
          "name": "stdout",
          "text": [
            "Step    0\n",
            "  input: 13 ('I')\n",
            "  expected output: 43 ('n')\n",
            "Step    1\n",
            "  input: 43 ('n')\n",
            "  expected output: 1 (' ')\n",
            "Step    2\n",
            "  input: 1 (' ')\n",
            "  expected output: 42 ('m')\n",
            "Step    3\n",
            "  input: 42 ('m')\n",
            "  expected output: 54 ('y')\n",
            "Step    4\n",
            "  input: 54 ('y')\n",
            "  expected output: 1 (' ')\n"
          ]
        }
      ]
    },
    {
      "cell_type": "markdown",
      "source": [
        "**Построение и обучение модели**"
      ],
      "metadata": {
        "id": "8gryppvSCOSi"
      }
    },
    {
      "cell_type": "markdown",
      "source": [
        "Гиперпараметры для модели"
      ],
      "metadata": {
        "id": "QT0WmYGkCbe8"
      }
    },
    {
      "cell_type": "code",
      "source": [
        "BATCH_SIZE = 64\n",
        "BUFFER_SIZE = 10000\n",
        "dataset = dataset.shuffle(BUFFER_SIZE).batch(BATCH_SIZE, drop_remainder=True)\n",
        "dataset\n",
        "\n",
        "vocab_size = len(vocab)\n",
        "embedding_dim = 256\n",
        "rnn_units = 1024\n",
        "rnn_units_2 = 512"
      ],
      "metadata": {
        "id": "mkE_yNED98vg"
      },
      "execution_count": null,
      "outputs": []
    },
    {
      "cell_type": "markdown",
      "source": [
        "Создание модели"
      ],
      "metadata": {
        "id": "hodrEYI2CfQK"
      }
    },
    {
      "cell_type": "code",
      "source": [
        "model = tf.keras.Sequential([\n",
        "  tf.keras.layers.Embedding(vocab_size, embedding_dim,\n",
        "                            batch_input_shape=[BATCH_SIZE, None]),\n",
        "  tf.keras.layers.GRU(rnn_units,\n",
        "                      return_sequences=True,\n",
        "                      stateful=True,\n",
        "                      recurrent_initializer='glorot_uniform'),\n",
        "  tf.keras.layers.GRU(rnn_units_2,\n",
        "                      return_sequences=True,\n",
        "                      stateful=True,\n",
        "                      recurrent_initializer='glorot_uniform'),\n",
        "  tf.keras.layers.Dense(vocab_size)\n",
        "])\n",
        "model.summary()"
      ],
      "metadata": {
        "colab": {
          "base_uri": "https://localhost:8080/"
        },
        "id": "r7SeRIU6-JDx",
        "outputId": "1b067ab2-b77d-433d-d92d-a2b2b7904ba3"
      },
      "execution_count": null,
      "outputs": [
        {
          "output_type": "stream",
          "name": "stdout",
          "text": [
            "Model: \"sequential\"\n",
            "_________________________________________________________________\n",
            " Layer (type)                Output Shape              Param #   \n",
            "=================================================================\n",
            " embedding (Embedding)       (64, None, 256)           14336     \n",
            "                                                                 \n",
            " gru (GRU)                   (64, None, 1024)          3938304   \n",
            "                                                                 \n",
            " gru_1 (GRU)                 (64, None, 512)           2362368   \n",
            "                                                                 \n",
            " dense (Dense)               (64, None, 56)            28728     \n",
            "                                                                 \n",
            "=================================================================\n",
            "Total params: 6343736 (24.20 MB)\n",
            "Trainable params: 6343736 (24.20 MB)\n",
            "Non-trainable params: 0 (0.00 Byte)\n",
            "_________________________________________________________________\n"
          ]
        }
      ]
    },
    {
      "cell_type": "markdown",
      "source": [
        "Определение функции потерь"
      ],
      "metadata": {
        "id": "_axM5ZNsChHu"
      }
    },
    {
      "cell_type": "code",
      "source": [
        "def loss(labels, logits):\n",
        "  return tf.keras.losses.sparse_categorical_crossentropy(labels, logits, from_logits=True)\n",
        "\n",
        "model.compile(optimizer='adam', loss=loss)"
      ],
      "metadata": {
        "id": "JuD9Tmg6-KQ8"
      },
      "execution_count": null,
      "outputs": []
    },
    {
      "cell_type": "markdown",
      "source": [
        "Сохранении копии модели для дальнейшего использования"
      ],
      "metadata": {
        "id": "-H0dAO3MC2Bj"
      }
    },
    {
      "cell_type": "code",
      "source": [
        "checkpoint_dir = './training_checkpoints'\n",
        "checkpoint_prefix = os.path.join(checkpoint_dir, \"ckpt_{epoch}\")\n",
        "checkpoint_callback=tf.keras.callbacks.ModelCheckpoint(\n",
        "    filepath=checkpoint_prefix,\n",
        "    save_weights_only=True)"
      ],
      "metadata": {
        "id": "pGZ51e2c-Mqj"
      },
      "execution_count": null,
      "outputs": []
    },
    {
      "cell_type": "code",
      "source": [
        "epochs = 5"
      ],
      "metadata": {
        "id": "RoD5e5Z4-RiW"
      },
      "execution_count": null,
      "outputs": []
    },
    {
      "cell_type": "markdown",
      "source": [
        "Обучение модели"
      ],
      "metadata": {
        "id": "xufQOigSDLzW"
      }
    },
    {
      "cell_type": "code",
      "source": [
        "history = model.fit(dataset, epochs=epochs, callbacks=[checkpoint_callback])"
      ],
      "metadata": {
        "colab": {
          "base_uri": "https://localhost:8080/"
        },
        "id": "9W8RzPr1-OTF",
        "outputId": "dec4e575-6424-4fd3-da7d-2c5e08bed776"
      },
      "execution_count": null,
      "outputs": [
        {
          "output_type": "stream",
          "name": "stdout",
          "text": [
            "Epoch 1/5\n",
            "43/43 [==============================] - 429s 10s/step - loss: 3.0104\n",
            "Epoch 2/5\n",
            "43/43 [==============================] - 397s 9s/step - loss: 2.3688\n",
            "Epoch 3/5\n",
            "43/43 [==============================] - 413s 10s/step - loss: 2.1493\n",
            "Epoch 4/5\n",
            "43/43 [==============================] - 404s 9s/step - loss: 1.9700\n",
            "Epoch 5/5\n",
            "43/43 [==============================] - 394s 9s/step - loss: 1.8147\n"
          ]
        }
      ]
    },
    {
      "cell_type": "markdown",
      "source": [
        "Определение функции для запроса модели и генерации текста"
      ],
      "metadata": {
        "id": "1UERG491DLN5"
      }
    },
    {
      "cell_type": "code",
      "source": [
        "def generate_text(model, start_string, temp, gen_chars):\n",
        "  input_eval = [char2idx[s] for s in start_string]\n",
        "  input_eval = tf.expand_dims(input_eval, 0)\n",
        "  text_generated = []\n",
        "  model.reset_states()\n",
        "  for i in range(gen_chars):\n",
        "    predictions = model(input_eval)\n",
        "    predictions = tf.squeeze(predictions, 0)\n",
        "    predictions = predictions / temp\n",
        "    predicted_id = tf.random.categorical(predictions, num_samples=1)[-1,0].numpy()\n",
        "    input_eval = tf.expand_dims([predicted_id], 0)\n",
        "    text_generated.append(idx2char[predicted_id])\n",
        "  return (start_string + ''.join(text_generated))"
      ],
      "metadata": {
        "id": "gRa_rGm9-TlJ"
      },
      "execution_count": null,
      "outputs": []
    },
    {
      "cell_type": "markdown",
      "source": [
        "Перестройка модели, используя только 1 вход или батч"
      ],
      "metadata": {
        "id": "Uaw6eOrhDR1Q"
      }
    },
    {
      "cell_type": "code",
      "source": [
        "model = tf.keras.Sequential([\n",
        "  tf.keras.layers.Embedding(vocab_size, embedding_dim,\n",
        "                            batch_input_shape=[1, None]),\n",
        "  tf.keras.layers.GRU(rnn_units,\n",
        "                      return_sequences=True,\n",
        "                      stateful=True,\n",
        "                      recurrent_initializer='glorot_uniform'),\n",
        "  tf.keras.layers.GRU(rnn_units_2,\n",
        "                      return_sequences=True,\n",
        "                      stateful=True,\n",
        "                      recurrent_initializer='glorot_uniform'),\n",
        "  tf.keras.layers.Dense(vocab_size)\n",
        "])\n",
        "model.summary()\n",
        "model.load_weights(tf.train.latest_checkpoint(checkpoint_dir))\n",
        "model.build(tf.TensorShape([1, None]))"
      ],
      "metadata": {
        "colab": {
          "base_uri": "https://localhost:8080/"
        },
        "id": "UgqcrP4C-epa",
        "outputId": "12a26fb7-79cf-46c4-8dec-e831484da1eb"
      },
      "execution_count": null,
      "outputs": [
        {
          "output_type": "stream",
          "name": "stdout",
          "text": [
            "Model: \"sequential_2\"\n",
            "_________________________________________________________________\n",
            " Layer (type)                Output Shape              Param #   \n",
            "=================================================================\n",
            " embedding_2 (Embedding)     (1, None, 256)            14336     \n",
            "                                                                 \n",
            " gru_4 (GRU)                 (1, None, 1024)           3938304   \n",
            "                                                                 \n",
            " gru_5 (GRU)                 (1, None, 512)            2362368   \n",
            "                                                                 \n",
            " dense_2 (Dense)             (1, None, 56)             28728     \n",
            "                                                                 \n",
            "=================================================================\n",
            "Total params: 6343736 (24.20 MB)\n",
            "Trainable params: 6343736 (24.20 MB)\n",
            "Non-trainable params: 0 (0.00 Byte)\n",
            "_________________________________________________________________\n"
          ]
        }
      ]
    },
    {
      "cell_type": "markdown",
      "source": [
        "**Генерация текстов разных температур**"
      ],
      "metadata": {
        "id": "HXTRC9elVdF_"
      }
    },
    {
      "cell_type": "markdown",
      "source": [
        "Температура используется для определения предсказуемости текста. Более низкая температура (0,25) создает интеллектуальный текст. В то время как более высокая температура (2.0) генерирует более уникальный текст. Более высокие температуры могут привести к бессмысленному тексту."
      ],
      "metadata": {
        "id": "T5Szq-6CDaHA"
      }
    },
    {
      "cell_type": "code",
      "source": [
        "text_025 = generate_text(model, u\"He said \", .25, 200)"
      ],
      "metadata": {
        "id": "i-5LWonNC77H"
      },
      "execution_count": null,
      "outputs": []
    },
    {
      "cell_type": "code",
      "source": [
        "text_025"
      ],
      "metadata": {
        "colab": {
          "base_uri": "https://localhost:8080/",
          "height": 53
        },
        "id": "w67XtLfXOWrC",
        "outputId": "ea08ef26-6e22-4c90-afc4-12e6492815e9"
      },
      "execution_count": null,
      "outputs": [
        {
          "output_type": "execute_result",
          "data": {
            "text/plain": [
              "'He said Tom some of the same to a cound the sounded a stard the port of the sure of the seem to a stranged that the said and the said and the said and the seem of the supper of the said with a change and the '"
            ],
            "application/vnd.google.colaboratory.intrinsic+json": {
              "type": "string"
            }
          },
          "metadata": {},
          "execution_count": 63
        }
      ]
    },
    {
      "cell_type": "code",
      "source": [
        "text_05 = generate_text(model, u\"She thinks \", 0.5, 200)"
      ],
      "metadata": {
        "id": "f45RY2wGNRTC"
      },
      "execution_count": null,
      "outputs": []
    },
    {
      "cell_type": "code",
      "source": [
        "text_05"
      ],
      "metadata": {
        "colab": {
          "base_uri": "https://localhost:8080/",
          "height": 53
        },
        "id": "C9P9tgZ7OZsm",
        "outputId": "6cd8b01f-1dd5-4356-8086-58fa9f224b36"
      },
      "execution_count": null,
      "outputs": [
        {
          "output_type": "execute_result",
          "data": {
            "text/plain": [
              "'She thinks an the though and the tood and went ad a stort with at him eyes that he wildon that we could was a moloning though that was in the and which sat the but the drown the and were coneed thing had be all '"
            ],
            "application/vnd.google.colaboratory.intrinsic+json": {
              "type": "string"
            }
          },
          "metadata": {},
          "execution_count": 176
        }
      ]
    },
    {
      "cell_type": "code",
      "source": [
        "text_08 = generate_text(model, u\"In my younger \", 0.8, 200)"
      ],
      "metadata": {
        "id": "0VWV_55UM3MG"
      },
      "execution_count": null,
      "outputs": []
    },
    {
      "cell_type": "code",
      "source": [
        "text_08"
      ],
      "metadata": {
        "colab": {
          "base_uri": "https://localhost:8080/",
          "height": 53
        },
        "id": "MRYirc-aOcbI",
        "outputId": "71fe8621-7295-40d2-d5a0-f6b1ce445ffa"
      },
      "execution_count": null,
      "outputs": [
        {
          "output_type": "execute_result",
          "data": {
            "text/plain": [
              "'In my younger by the dont mener, the shouldng word but he case gurle sere of Tom name side for going in the shorle it with the suppain she ball, in this husbrad. He counded to arour of that the celloor in so mad in'"
            ],
            "application/vnd.google.colaboratory.intrinsic+json": {
              "type": "string"
            }
          },
          "metadata": {},
          "execution_count": 67
        }
      ]
    },
    {
      "cell_type": "code",
      "source": [
        "text_1 = generate_text(model, u\"I never \", 1.0, 200)"
      ],
      "metadata": {
        "id": "TsoSqKl5Nbl-"
      },
      "execution_count": null,
      "outputs": []
    },
    {
      "cell_type": "code",
      "source": [
        "text_1"
      ],
      "metadata": {
        "colab": {
          "base_uri": "https://localhost:8080/",
          "height": 53
        },
        "id": "ozEToJYQOgvy",
        "outputId": "bd7cd7be-e7c4-4a55-eb45-d602187d1447"
      },
      "execution_count": null,
      "outputs": [
        {
          "output_type": "execute_result",
          "data": {
            "text/plain": [
              "'I never thous off with whick and sayy empate had\\rinselvices of fine fage of hace with all.\\r\\rWhat down boing me. \\rTo my Saty a was a tranging over itf tle incussisgent towarm a bound bewand nothinging, and boo'"
            ],
            "application/vnd.google.colaboratory.intrinsic+json": {
              "type": "string"
            }
          },
          "metadata": {},
          "execution_count": 69
        }
      ]
    },
    {
      "cell_type": "code",
      "source": [
        "text_2 = generate_text(model, u\"I never \", 2.0, 200)"
      ],
      "metadata": {
        "id": "3QmsD4WjC9uV"
      },
      "execution_count": null,
      "outputs": []
    },
    {
      "cell_type": "code",
      "source": [
        "text_2"
      ],
      "metadata": {
        "colab": {
          "base_uri": "https://localhost:8080/",
          "height": 53
        },
        "id": "dKl6NK1UOjO8",
        "outputId": "0ea32f4c-a49d-46f8-b44b-7de4471ec772"
      },
      "execution_count": null,
      "outputs": [
        {
          "output_type": "execute_result",
          "data": {
            "text/plain": [
              "'I never dPSidvelyss hom.\\r,\\rainuoched byrw a Flbriwn gonicual towlricet, in iqusibudy, ML!jut if QrUBLNQJyo FoI ngittens tergsed\\rCrWin MrothrWe MrKfnKers, ym laSchAfth! His yem\\rledam izPladevy loughbou wumoul,'"
            ],
            "application/vnd.google.colaboratory.intrinsic+json": {
              "type": "string"
            }
          },
          "metadata": {},
          "execution_count": 71
        }
      ]
    },
    {
      "cell_type": "markdown",
      "source": [
        "Перплексия и энтропия"
      ],
      "metadata": {
        "id": "ko8WORkTHS4-"
      }
    },
    {
      "cell_type": "markdown",
      "source": [
        "Лучше та модель, которая лучше\n",
        "предсказывает детали тестовой\n",
        "коллекции (меньше перплексия)\n"
      ],
      "metadata": {
        "id": "gvN9g6ilJSdD"
      }
    },
    {
      "cell_type": "code",
      "source": [
        "from nltk import ngrams\n",
        "from collections import Counter\n",
        "import math"
      ],
      "metadata": {
        "id": "nByQHbVCSORN"
      },
      "execution_count": null,
      "outputs": []
    },
    {
      "cell_type": "markdown",
      "source": [
        "Для текста с температурой = 0.25\n",
        "\n"
      ],
      "metadata": {
        "id": "kP_bbM7mRyWP"
      }
    },
    {
      "cell_type": "code",
      "source": [
        "corpus = text_025\n",
        "\n",
        "n = 2\n",
        "ngram_counts = Counter(ngrams(corpus.split(), n))\n",
        "\n",
        "total_count = sum(ngram_counts.values())\n",
        "probabilities = {ngram: count/total_count for ngram, count in ngram_counts.items()}\n"
      ],
      "metadata": {
        "id": "yeyHuBfjRyWP"
      },
      "execution_count": null,
      "outputs": []
    },
    {
      "cell_type": "code",
      "source": [
        "def calculate_perplexity(probabilities):\n",
        "    entropy = 0.0\n",
        "    for prob in probabilities:\n",
        "        entropy += math.log2(prob)\n",
        "    perplexity = 2 ** (-entropy / len(probabilities))\n",
        "    return perplexity"
      ],
      "metadata": {
        "id": "Ejv_8mQoR3mJ"
      },
      "execution_count": null,
      "outputs": []
    },
    {
      "cell_type": "code",
      "source": [
        "probs = []"
      ],
      "metadata": {
        "id": "-PEpz4qvJDaR"
      },
      "execution_count": null,
      "outputs": []
    },
    {
      "cell_type": "code",
      "source": [
        "print(\"Вероятности биграмм:\")\n",
        "for ngram, prob in probabilities.items():\n",
        "    print(' '.join(ngram), \"->\", prob)\n",
        "    probs.append(prob)"
      ],
      "metadata": {
        "colab": {
          "base_uri": "https://localhost:8080/"
        },
        "id": "XI0200dWR70V",
        "outputId": "8824c577-1436-4939-e407-bf15e31daeb4"
      },
      "execution_count": null,
      "outputs": [
        {
          "output_type": "stream",
          "name": "stdout",
          "text": [
            "Вероятности биграмм:\n",
            "He said -> 0.02127659574468085\n",
            "said Tom -> 0.02127659574468085\n",
            "Tom some -> 0.02127659574468085\n",
            "some of -> 0.02127659574468085\n",
            "of the -> 0.10638297872340426\n",
            "the same -> 0.02127659574468085\n",
            "same to -> 0.02127659574468085\n",
            "to a -> 0.0425531914893617\n",
            "a cound -> 0.02127659574468085\n",
            "cound the -> 0.02127659574468085\n",
            "the sounded -> 0.02127659574468085\n",
            "sounded a -> 0.02127659574468085\n",
            "a stard -> 0.02127659574468085\n",
            "stard the -> 0.02127659574468085\n",
            "the port -> 0.02127659574468085\n",
            "port of -> 0.02127659574468085\n",
            "the sure -> 0.02127659574468085\n",
            "sure of -> 0.02127659574468085\n",
            "the seem -> 0.0425531914893617\n",
            "seem to -> 0.02127659574468085\n",
            "a stranged -> 0.02127659574468085\n",
            "stranged that -> 0.02127659574468085\n",
            "that the -> 0.02127659574468085\n",
            "the said -> 0.0851063829787234\n",
            "said and -> 0.06382978723404255\n",
            "and the -> 0.0851063829787234\n",
            "seem of -> 0.02127659574468085\n",
            "the supper -> 0.02127659574468085\n",
            "supper of -> 0.02127659574468085\n",
            "said with -> 0.02127659574468085\n",
            "with a -> 0.02127659574468085\n",
            "a change -> 0.02127659574468085\n",
            "change and -> 0.02127659574468085\n"
          ]
        }
      ]
    },
    {
      "cell_type": "code",
      "source": [
        "probabilities = probs"
      ],
      "metadata": {
        "id": "DEJWKPdfRyWQ"
      },
      "execution_count": null,
      "outputs": []
    },
    {
      "cell_type": "code",
      "source": [
        "perplexity_1 = calculate_perplexity(probabilities)\n",
        "print(\"Perplexity:\", perplexity_1)"
      ],
      "metadata": {
        "colab": {
          "base_uri": "https://localhost:8080/"
        },
        "outputId": "1d87cb34-9fe3-47ea-ec2c-664de93648cb",
        "id": "fw1Xp7v8RyWQ"
      },
      "execution_count": null,
      "outputs": [
        {
          "output_type": "stream",
          "name": "stdout",
          "text": [
            "Perplexity: 38.170337712285985\n"
          ]
        }
      ]
    },
    {
      "cell_type": "markdown",
      "source": [
        "Для текста с температурой = 0.5"
      ],
      "metadata": {
        "id": "E4QDkDXXRSzt"
      }
    },
    {
      "cell_type": "code",
      "source": [
        "corpus = text_05\n",
        "\n",
        "n = 2\n",
        "ngram_counts = Counter(ngrams(corpus.split(), n))\n",
        "\n",
        "total_count = sum(ngram_counts.values())\n",
        "probabilities = {ngram: count/total_count for ngram, count in ngram_counts.items()}\n"
      ],
      "metadata": {
        "id": "39eBSzNPSYKz"
      },
      "execution_count": null,
      "outputs": []
    },
    {
      "cell_type": "code",
      "source": [
        "probs = []"
      ],
      "metadata": {
        "id": "Mu0sJ6nhJo3w"
      },
      "execution_count": null,
      "outputs": []
    },
    {
      "cell_type": "code",
      "source": [
        "print(\"Вероятности биграмм:\")\n",
        "for ngram, prob in probabilities.items():\n",
        "    print(' '.join(ngram), \"->\", prob)\n",
        "    probs.append(prob)"
      ],
      "metadata": {
        "colab": {
          "base_uri": "https://localhost:8080/"
        },
        "outputId": "a6c09809-fb5d-477d-fe4e-ed0047a607a1",
        "id": "MJX0RdaMSYK0"
      },
      "execution_count": null,
      "outputs": [
        {
          "output_type": "stream",
          "name": "stdout",
          "text": [
            "Вероятности биграмм:\n",
            "She thinks -> 0.022222222222222223\n",
            "thinks an -> 0.022222222222222223\n",
            "an the -> 0.022222222222222223\n",
            "the though -> 0.022222222222222223\n",
            "though and -> 0.022222222222222223\n",
            "and the -> 0.022222222222222223\n",
            "the tood -> 0.022222222222222223\n",
            "tood and -> 0.022222222222222223\n",
            "and went -> 0.022222222222222223\n",
            "went ad -> 0.022222222222222223\n",
            "ad a -> 0.022222222222222223\n",
            "a stort -> 0.022222222222222223\n",
            "stort with -> 0.022222222222222223\n",
            "with at -> 0.022222222222222223\n",
            "at him -> 0.022222222222222223\n",
            "him eyes -> 0.022222222222222223\n",
            "eyes that -> 0.022222222222222223\n",
            "that he -> 0.022222222222222223\n",
            "he wildon -> 0.022222222222222223\n",
            "wildon that -> 0.022222222222222223\n",
            "that we -> 0.022222222222222223\n",
            "we could -> 0.022222222222222223\n",
            "could was -> 0.022222222222222223\n",
            "was a -> 0.022222222222222223\n",
            "a moloning -> 0.022222222222222223\n",
            "moloning though -> 0.022222222222222223\n",
            "though that -> 0.022222222222222223\n",
            "that was -> 0.022222222222222223\n",
            "was in -> 0.022222222222222223\n",
            "in the -> 0.022222222222222223\n",
            "the and -> 0.044444444444444446\n",
            "and which -> 0.022222222222222223\n",
            "which sat -> 0.022222222222222223\n",
            "sat the -> 0.022222222222222223\n",
            "the but -> 0.022222222222222223\n",
            "but the -> 0.022222222222222223\n",
            "the drown -> 0.022222222222222223\n",
            "drown the -> 0.022222222222222223\n",
            "and were -> 0.022222222222222223\n",
            "were coneed -> 0.022222222222222223\n",
            "coneed thing -> 0.022222222222222223\n",
            "thing had -> 0.022222222222222223\n",
            "had be -> 0.022222222222222223\n",
            "be all -> 0.022222222222222223\n"
          ]
        }
      ]
    },
    {
      "cell_type": "code",
      "source": [
        "probabilities = probs"
      ],
      "metadata": {
        "id": "HB-bWg_DSYK1"
      },
      "execution_count": null,
      "outputs": []
    },
    {
      "cell_type": "code",
      "source": [
        "perplexity_2 = calculate_perplexity(probabilities)\n",
        "print(\"Perplexity:\", perplexity_2)"
      ],
      "metadata": {
        "colab": {
          "base_uri": "https://localhost:8080/"
        },
        "outputId": "345f47f1-d7df-41e8-9b4e-6db41be42b02",
        "id": "AjwdGnlgSYK1"
      },
      "execution_count": null,
      "outputs": [
        {
          "output_type": "stream",
          "name": "stdout",
          "text": [
            "Perplexity: 44.29665404576338\n"
          ]
        }
      ]
    },
    {
      "cell_type": "markdown",
      "source": [
        "Для текста с температурой = 0.8"
      ],
      "metadata": {
        "id": "RyB_H8gLRb5j"
      }
    },
    {
      "cell_type": "code",
      "source": [
        "corpus = text_08\n",
        "\n",
        "n = 2\n",
        "ngram_counts = Counter(ngrams(corpus.split(), n))\n",
        "\n",
        "total_count = sum(ngram_counts.values())\n",
        "probabilities = {ngram: count/total_count for ngram, count in ngram_counts.items()}\n"
      ],
      "metadata": {
        "id": "jH8Rzl9HSenF"
      },
      "execution_count": null,
      "outputs": []
    },
    {
      "cell_type": "code",
      "source": [
        "probs = []"
      ],
      "metadata": {
        "id": "T0Bh1kj6KBBh"
      },
      "execution_count": null,
      "outputs": []
    },
    {
      "cell_type": "code",
      "source": [
        "print(\"Вероятности биграмм:\")\n",
        "for ngram, prob in probabilities.items():\n",
        "    print(' '.join(ngram), \"->\", prob)\n",
        "    probs.append(prob)"
      ],
      "metadata": {
        "colab": {
          "base_uri": "https://localhost:8080/"
        },
        "outputId": "099f6479-450f-4fb0-ab6f-002d2efc364e",
        "id": "U7s0xPdwSenF"
      },
      "execution_count": null,
      "outputs": [
        {
          "output_type": "stream",
          "name": "stdout",
          "text": [
            "Вероятности биграмм:\n",
            "In my -> 0.022727272727272728\n",
            "my younger -> 0.022727272727272728\n",
            "younger by -> 0.022727272727272728\n",
            "by the -> 0.022727272727272728\n",
            "the dont -> 0.022727272727272728\n",
            "dont mener, -> 0.022727272727272728\n",
            "mener, the -> 0.022727272727272728\n",
            "the shouldng -> 0.022727272727272728\n",
            "shouldng word -> 0.022727272727272728\n",
            "word but -> 0.022727272727272728\n",
            "but he -> 0.022727272727272728\n",
            "he case -> 0.022727272727272728\n",
            "case gurle -> 0.022727272727272728\n",
            "gurle sere -> 0.022727272727272728\n",
            "sere of -> 0.022727272727272728\n",
            "of Tom -> 0.022727272727272728\n",
            "Tom name -> 0.022727272727272728\n",
            "name side -> 0.022727272727272728\n",
            "side for -> 0.022727272727272728\n",
            "for going -> 0.022727272727272728\n",
            "going in -> 0.022727272727272728\n",
            "in the -> 0.022727272727272728\n",
            "the shorle -> 0.022727272727272728\n",
            "shorle it -> 0.022727272727272728\n",
            "it with -> 0.022727272727272728\n",
            "with the -> 0.022727272727272728\n",
            "the suppain -> 0.022727272727272728\n",
            "suppain she -> 0.022727272727272728\n",
            "she ball, -> 0.022727272727272728\n",
            "ball, in -> 0.022727272727272728\n",
            "in this -> 0.022727272727272728\n",
            "this husbrad. -> 0.022727272727272728\n",
            "husbrad. He -> 0.022727272727272728\n",
            "He counded -> 0.022727272727272728\n",
            "counded to -> 0.022727272727272728\n",
            "to arour -> 0.022727272727272728\n",
            "arour of -> 0.022727272727272728\n",
            "of that -> 0.022727272727272728\n",
            "that the -> 0.022727272727272728\n",
            "the celloor -> 0.022727272727272728\n",
            "celloor in -> 0.022727272727272728\n",
            "in so -> 0.022727272727272728\n",
            "so mad -> 0.022727272727272728\n",
            "mad in -> 0.022727272727272728\n"
          ]
        }
      ]
    },
    {
      "cell_type": "code",
      "source": [
        "probabilities = probs"
      ],
      "metadata": {
        "id": "o3pK68H-SenG"
      },
      "execution_count": null,
      "outputs": []
    },
    {
      "cell_type": "code",
      "source": [
        "perplexity_3 = calculate_perplexity(probabilities)\n",
        "print(\"Perplexity:\", perplexity_3)"
      ],
      "metadata": {
        "colab": {
          "base_uri": "https://localhost:8080/"
        },
        "outputId": "9d461970-9a65-485a-c6a7-095a4834f08d",
        "id": "NVGTloWpSenG"
      },
      "execution_count": null,
      "outputs": [
        {
          "output_type": "stream",
          "name": "stdout",
          "text": [
            "Perplexity: 44.0\n"
          ]
        }
      ]
    },
    {
      "cell_type": "markdown",
      "source": [
        "Для текста с температурой = 1"
      ],
      "metadata": {
        "id": "-0n6dWcGRmYQ"
      }
    },
    {
      "cell_type": "code",
      "source": [
        "corpus = text_1\n",
        "\n",
        "n = 2\n",
        "ngram_counts = Counter(ngrams(corpus.split(), n))\n",
        "\n",
        "total_count = sum(ngram_counts.values())\n",
        "probabilities = {ngram: count/total_count for ngram, count in ngram_counts.items()}\n"
      ],
      "metadata": {
        "id": "n-o4AR0vSmNT"
      },
      "execution_count": null,
      "outputs": []
    },
    {
      "cell_type": "code",
      "source": [
        "probs = []"
      ],
      "metadata": {
        "id": "O481PA-MKPc6"
      },
      "execution_count": null,
      "outputs": []
    },
    {
      "cell_type": "code",
      "source": [
        "print(\"Вероятности биграмм:\")\n",
        "for ngram, prob in probabilities.items():\n",
        "    print(' '.join(ngram), \"->\", prob)\n",
        "    probs.append(prob)"
      ],
      "metadata": {
        "colab": {
          "base_uri": "https://localhost:8080/"
        },
        "outputId": "8cc701e4-8e2d-4a97-fc74-78f3bb6efcb9",
        "id": "fXbEef0xSmNT"
      },
      "execution_count": null,
      "outputs": [
        {
          "output_type": "stream",
          "name": "stdout",
          "text": [
            "Вероятности биграмм:\n",
            "I never -> 0.02564102564102564\n",
            "never thous -> 0.02564102564102564\n",
            "thous off -> 0.02564102564102564\n",
            "off with -> 0.02564102564102564\n",
            "with whick -> 0.02564102564102564\n",
            "whick and -> 0.02564102564102564\n",
            "and sayy -> 0.02564102564102564\n",
            "sayy empate -> 0.02564102564102564\n",
            "empate had -> 0.02564102564102564\n",
            "had inselvices -> 0.02564102564102564\n",
            "inselvices of -> 0.02564102564102564\n",
            "of fine -> 0.02564102564102564\n",
            "fine fage -> 0.02564102564102564\n",
            "fage of -> 0.02564102564102564\n",
            "of hace -> 0.02564102564102564\n",
            "hace with -> 0.02564102564102564\n",
            "with all. -> 0.02564102564102564\n",
            "all. What -> 0.02564102564102564\n",
            "What down -> 0.02564102564102564\n",
            "down boing -> 0.02564102564102564\n",
            "boing me. -> 0.02564102564102564\n",
            "me. To -> 0.02564102564102564\n",
            "To my -> 0.02564102564102564\n",
            "my Saty -> 0.02564102564102564\n",
            "Saty a -> 0.02564102564102564\n",
            "a was -> 0.02564102564102564\n",
            "was a -> 0.02564102564102564\n",
            "a tranging -> 0.02564102564102564\n",
            "tranging over -> 0.02564102564102564\n",
            "over itf -> 0.02564102564102564\n",
            "itf tle -> 0.02564102564102564\n",
            "tle incussisgent -> 0.02564102564102564\n",
            "incussisgent towarm -> 0.02564102564102564\n",
            "towarm a -> 0.02564102564102564\n",
            "a bound -> 0.02564102564102564\n",
            "bound bewand -> 0.02564102564102564\n",
            "bewand nothinging, -> 0.02564102564102564\n",
            "nothinging, and -> 0.02564102564102564\n",
            "and boo -> 0.02564102564102564\n"
          ]
        }
      ]
    },
    {
      "cell_type": "code",
      "source": [
        "probabilities = probs"
      ],
      "metadata": {
        "id": "W6uSaz9vSmNU"
      },
      "execution_count": null,
      "outputs": []
    },
    {
      "cell_type": "code",
      "source": [
        "perplexity_4 = calculate_perplexity(probabilities)\n",
        "print(\"Perplexity:\", perplexity_4)"
      ],
      "metadata": {
        "colab": {
          "base_uri": "https://localhost:8080/"
        },
        "outputId": "5530ee5a-2e95-4923-e99d-bf2c3f5a0d3a",
        "id": "tolB2mBDSmNU"
      },
      "execution_count": null,
      "outputs": [
        {
          "output_type": "stream",
          "name": "stdout",
          "text": [
            "Perplexity: 39.000000000000085\n"
          ]
        }
      ]
    },
    {
      "cell_type": "markdown",
      "source": [
        "Для текста с температурой = 2"
      ],
      "metadata": {
        "id": "mGVAkR0BSSmL"
      }
    },
    {
      "cell_type": "code",
      "source": [
        "corpus = text_2\n",
        "\n",
        "n = 2\n",
        "ngram_counts = Counter(ngrams(corpus.split(), n))\n",
        "\n",
        "total_count = sum(ngram_counts.values())\n",
        "probabilities = {ngram: count/total_count for ngram, count in ngram_counts.items()}\n"
      ],
      "metadata": {
        "id": "LvRenZrwSpKZ"
      },
      "execution_count": null,
      "outputs": []
    },
    {
      "cell_type": "code",
      "source": [
        "probs = []"
      ],
      "metadata": {
        "id": "SKa27tN0KdI1"
      },
      "execution_count": null,
      "outputs": []
    },
    {
      "cell_type": "code",
      "source": [
        "print(\"Вероятности биграмм:\")\n",
        "for ngram, prob in probabilities.items():\n",
        "    print(' '.join(ngram), \"->\", prob)\n",
        "    probs.append(prob)"
      ],
      "metadata": {
        "colab": {
          "base_uri": "https://localhost:8080/"
        },
        "outputId": "65727a21-3293-49cd-9854-351a1614b547",
        "id": "kaRcvLt6SpKa"
      },
      "execution_count": null,
      "outputs": [
        {
          "output_type": "stream",
          "name": "stdout",
          "text": [
            "Вероятности биграмм:\n",
            "I never -> 0.034482758620689655\n",
            "never dPSidvelyss -> 0.034482758620689655\n",
            "dPSidvelyss hom. -> 0.034482758620689655\n",
            "hom. , -> 0.034482758620689655\n",
            ", ainuoched -> 0.034482758620689655\n",
            "ainuoched byrw -> 0.034482758620689655\n",
            "byrw a -> 0.034482758620689655\n",
            "a Flbriwn -> 0.034482758620689655\n",
            "Flbriwn gonicual -> 0.034482758620689655\n",
            "gonicual towlricet, -> 0.034482758620689655\n",
            "towlricet, in -> 0.034482758620689655\n",
            "in iqusibudy, -> 0.034482758620689655\n",
            "iqusibudy, ML!jut -> 0.034482758620689655\n",
            "ML!jut if -> 0.034482758620689655\n",
            "if QrUBLNQJyo -> 0.034482758620689655\n",
            "QrUBLNQJyo FoI -> 0.034482758620689655\n",
            "FoI ngittens -> 0.034482758620689655\n",
            "ngittens tergsed -> 0.034482758620689655\n",
            "tergsed CrWin -> 0.034482758620689655\n",
            "CrWin MrothrWe -> 0.034482758620689655\n",
            "MrothrWe MrKfnKers, -> 0.034482758620689655\n",
            "MrKfnKers, ym -> 0.034482758620689655\n",
            "ym laSchAfth! -> 0.034482758620689655\n",
            "laSchAfth! His -> 0.034482758620689655\n",
            "His yem -> 0.034482758620689655\n",
            "yem ledam -> 0.034482758620689655\n",
            "ledam izPladevy -> 0.034482758620689655\n",
            "izPladevy loughbou -> 0.034482758620689655\n",
            "loughbou wumoul, -> 0.034482758620689655\n"
          ]
        }
      ]
    },
    {
      "cell_type": "code",
      "source": [
        "probabilities = probs"
      ],
      "metadata": {
        "id": "CQ30Of1ISpKb"
      },
      "execution_count": null,
      "outputs": []
    },
    {
      "cell_type": "code",
      "source": [
        "perplexity_5 = calculate_perplexity(probabilities)\n",
        "print(\"Perplexity:\", perplexity_5)"
      ],
      "metadata": {
        "colab": {
          "base_uri": "https://localhost:8080/"
        },
        "outputId": "f3f69fcd-edf4-4498-c3c9-007812a8c206",
        "id": "d6GvvdxaSpKb"
      },
      "execution_count": null,
      "outputs": [
        {
          "output_type": "stream",
          "name": "stdout",
          "text": [
            "Perplexity: 29.000000000000032\n"
          ]
        }
      ]
    },
    {
      "cell_type": "code",
      "source": [
        "perplexity_temp = [perplexity_1, perplexity_2, perplexity_3, perplexity_4, perplexity_5]"
      ],
      "metadata": {
        "id": "YJ0CHZXDX3DB"
      },
      "execution_count": null,
      "outputs": []
    },
    {
      "cell_type": "code",
      "source": [
        "perplexity_temp"
      ],
      "metadata": {
        "colab": {
          "base_uri": "https://localhost:8080/"
        },
        "id": "z9Zu7ZHLX-XA",
        "outputId": "33a4d17e-8098-42ed-f820-3cae2477bc1e"
      },
      "execution_count": null,
      "outputs": [
        {
          "output_type": "execute_result",
          "data": {
            "text/plain": [
              "[38.170337712285985,\n",
              " 44.29665404576338,\n",
              " 44.0,\n",
              " 39.000000000000085,\n",
              " 29.000000000000032]"
            ]
          },
          "metadata": {},
          "execution_count": 47
        }
      ]
    },
    {
      "cell_type": "code",
      "source": [
        "temp = [0.25, 0.5, 0.8, 1, 2]"
      ],
      "metadata": {
        "id": "KgWLX3xzYH4r"
      },
      "execution_count": null,
      "outputs": []
    },
    {
      "cell_type": "code",
      "source": [
        "import matplotlib.pyplot as plt\n",
        "%matplotlib inline\n"
      ],
      "metadata": {
        "id": "TAVeolu5Zqxt"
      },
      "execution_count": null,
      "outputs": []
    },
    {
      "cell_type": "code",
      "source": [
        "plt.plot(temp, perplexity_temp)\n",
        "plt.xlabel('Температура')\n",
        "plt.ylabel('Перплексия')\n",
        "plt.grid()"
      ],
      "metadata": {
        "colab": {
          "base_uri": "https://localhost:8080/",
          "height": 449
        },
        "id": "f5PTEsfTZtpO",
        "outputId": "7d200675-d15e-4972-d42b-b5167ec2ece6"
      },
      "execution_count": null,
      "outputs": [
        {
          "output_type": "display_data",
          "data": {
            "text/plain": [
              "<Figure size 640x480 with 1 Axes>"
            ],
            "image/png": "[encoded data removed]"
          },
          "metadata": {}
        }
      ]
    },
    {
      "cell_type": "markdown",
      "source": [
        "**Генерация текстов разной длины**"
      ],
      "metadata": {
        "id": "yvrAsPvLVmj_"
      }
    },
    {
      "cell_type": "code",
      "source": [
        "text_1 = generate_text(model, u\"He said \", 0.5, 50)"
      ],
      "metadata": {
        "id": "_10qwE2VVyrk"
      },
      "execution_count": null,
      "outputs": []
    },
    {
      "cell_type": "code",
      "source": [
        "text_1"
      ],
      "metadata": {
        "colab": {
          "base_uri": "https://localhost:8080/",
          "height": 36
        },
        "outputId": "bb919821-911a-4898-b265-d90c4c6cf9d5",
        "id": "29MmupimVyrm"
      },
      "execution_count": null,
      "outputs": [
        {
          "output_type": "execute_result",
          "data": {
            "text/plain": [
              "'He said the counded reait and that I had be ne, when the s'"
            ],
            "application/vnd.google.colaboratory.intrinsic+json": {
              "type": "string"
            }
          },
          "metadata": {},
          "execution_count": 223
        }
      ]
    },
    {
      "cell_type": "code",
      "source": [
        "text_2 = generate_text(model, u\"She thinks \", 0.5, 100)"
      ],
      "metadata": {
        "id": "FtGk1SR3Vyrn"
      },
      "execution_count": null,
      "outputs": []
    },
    {
      "cell_type": "code",
      "source": [
        "text_2"
      ],
      "metadata": {
        "colab": {
          "base_uri": "https://localhost:8080/",
          "height": 36
        },
        "outputId": "204798c4-0802-44cf-bde7-5eb661aebbe2",
        "id": "A2OtgG18Vyrn"
      },
      "execution_count": null,
      "outputs": [
        {
          "output_type": "execute_result",
          "data": {
            "text/plain": [
              "'She thinks be any the counder. I didnt the lang a little but of the side be any to go to a strained to in the s'"
            ],
            "application/vnd.google.colaboratory.intrinsic+json": {
              "type": "string"
            }
          },
          "metadata": {},
          "execution_count": 228
        }
      ]
    },
    {
      "cell_type": "code",
      "source": [
        "text_3 = generate_text(model, u\"In my younger \", 0.5, 150)"
      ],
      "metadata": {
        "id": "U7Z2nn_DVyro"
      },
      "execution_count": null,
      "outputs": []
    },
    {
      "cell_type": "code",
      "source": [
        "text_3"
      ],
      "metadata": {
        "colab": {
          "base_uri": "https://localhost:8080/",
          "height": 36
        },
        "outputId": "fc47b698-b663-4dc6-918d-429c38360ac9",
        "id": "DnLSeijHVyro"
      },
      "execution_count": null,
      "outputs": [
        {
          "output_type": "execute_result",
          "data": {
            "text/plain": [
              "'In my younger and the care on the singersting to a sid that I want that and which every, and for a cound into the counded to see tounding armusting of the dicage an'"
            ],
            "application/vnd.google.colaboratory.intrinsic+json": {
              "type": "string"
            }
          },
          "metadata": {},
          "execution_count": 158
        }
      ]
    },
    {
      "cell_type": "code",
      "source": [
        "text_4 = generate_text(model, u\"I never \", 0.5, 250)"
      ],
      "metadata": {
        "id": "ZwWGPBNvVyrp"
      },
      "execution_count": null,
      "outputs": []
    },
    {
      "cell_type": "code",
      "source": [
        "text_4"
      ],
      "metadata": {
        "colab": {
          "base_uri": "https://localhost:8080/",
          "height": 53
        },
        "outputId": "e4711f8a-4054-41f1-a667-55df16dde7b8",
        "id": "FKsjcoo6Vyrp"
      },
      "execution_count": null,
      "outputs": [
        {
          "output_type": "execute_result",
          "data": {
            "text/plain": [
              "'I never a letter on the doom of the come to a scared a down her over the traingly a cound the a strance to the sain to as the had and the and the car she out the one on the seement would and the for a said I her as he cound and\\rseemed to go as the and the ca'"
            ],
            "application/vnd.google.colaboratory.intrinsic+json": {
              "type": "string"
            }
          },
          "metadata": {},
          "execution_count": 160
        }
      ]
    },
    {
      "cell_type": "code",
      "source": [
        "text_5 = generate_text(model, u\"I never \", 0.5, 500)"
      ],
      "metadata": {
        "id": "TKpfxT-EVyrq"
      },
      "execution_count": null,
      "outputs": []
    },
    {
      "cell_type": "code",
      "source": [
        "text_5"
      ],
      "metadata": {
        "colab": {
          "base_uri": "https://localhost:8080/",
          "height": 70
        },
        "outputId": "ef3515ca-ba29-4602-ba97-c1f325258c24",
        "id": "2EIYN8vcVyrq"
      },
      "execution_count": null,
      "outputs": [
        {
          "output_type": "execute_result",
          "data": {
            "text/plain": [
              "'I never the sobech after be and ever by this in his and shore and to he was to got that with a seren of that we were a little beant a could the and when I had be a strained the counded an the compled by a would of his naid.\\r\\rWhen I had the door on the saw he supped but the reame that I see that the cound to a sound to to of him before and was a man and the that I was an the wirned the before with the litt was and down the seef of the all the sevented but the could to a\\rfare in a chort that ever the darn'"
            ],
            "application/vnd.google.colaboratory.intrinsic+json": {
              "type": "string"
            }
          },
          "metadata": {},
          "execution_count": 162
        }
      ]
    },
    {
      "cell_type": "code",
      "source": [
        "corpus = text_1\n",
        "\n",
        "n = 2\n",
        "ngram_counts = Counter(ngrams(corpus.split(), n))\n",
        "\n",
        "total_count = sum(ngram_counts.values())\n",
        "probabilities = {ngram: count/total_count for ngram, count in ngram_counts.items()}\n"
      ],
      "metadata": {
        "id": "oDBfUSMKVyrr"
      },
      "execution_count": null,
      "outputs": []
    },
    {
      "cell_type": "code",
      "source": [
        "probs = []"
      ],
      "metadata": {
        "id": "ZH54ihOgLx5q"
      },
      "execution_count": null,
      "outputs": []
    },
    {
      "cell_type": "code",
      "source": [
        "print(\"Вероятности биграмм:\")\n",
        "for ngram, prob in probabilities.items():\n",
        "    print(' '.join(ngram), \"->\", prob)\n",
        "    probs.append(prob)"
      ],
      "metadata": {
        "colab": {
          "base_uri": "https://localhost:8080/"
        },
        "outputId": "3e05492f-be2d-4877-a2d3-e09b9e0a1961",
        "id": "yp5L4XbiVyrr"
      },
      "execution_count": null,
      "outputs": [
        {
          "output_type": "stream",
          "name": "stdout",
          "text": [
            "Вероятности биграмм:\n",
            "He said -> 0.07692307692307693\n",
            "said the -> 0.07692307692307693\n",
            "the counded -> 0.07692307692307693\n",
            "counded reait -> 0.07692307692307693\n",
            "reait and -> 0.07692307692307693\n",
            "and that -> 0.07692307692307693\n",
            "that I -> 0.07692307692307693\n",
            "I had -> 0.07692307692307693\n",
            "had be -> 0.07692307692307693\n",
            "be ne, -> 0.07692307692307693\n",
            "ne, when -> 0.07692307692307693\n",
            "when the -> 0.07692307692307693\n",
            "the s -> 0.07692307692307693\n"
          ]
        }
      ]
    },
    {
      "cell_type": "code",
      "source": [
        "probabilities = probs"
      ],
      "metadata": {
        "id": "aheEkiCTVyrs"
      },
      "execution_count": null,
      "outputs": []
    },
    {
      "cell_type": "code",
      "source": [
        "perplexity_1 = calculate_perplexity(probabilities)\n",
        "print(\"Perplexity:\", perplexity_1)"
      ],
      "metadata": {
        "colab": {
          "base_uri": "https://localhost:8080/"
        },
        "outputId": "388aa206-e476-44d8-ce8d-343cf01c4f98",
        "id": "3V56etiQVyrs"
      },
      "execution_count": null,
      "outputs": [
        {
          "output_type": "stream",
          "name": "stdout",
          "text": [
            "Perplexity: 12.999999999999993\n"
          ]
        }
      ]
    },
    {
      "cell_type": "code",
      "source": [
        "corpus = text_2\n",
        "\n",
        "n = 2\n",
        "ngram_counts = Counter(ngrams(corpus.split(), n))\n",
        "\n",
        "total_count = sum(ngram_counts.values())\n",
        "probabilities = {ngram: count/total_count for ngram, count in ngram_counts.items()}\n"
      ],
      "metadata": {
        "id": "FHr5e_IPVyrt"
      },
      "execution_count": null,
      "outputs": []
    },
    {
      "cell_type": "code",
      "source": [
        "probs = []"
      ],
      "metadata": {
        "id": "FTPvTENfL0CI"
      },
      "execution_count": null,
      "outputs": []
    },
    {
      "cell_type": "code",
      "source": [
        "print(\"Вероятности биграмм:\")\n",
        "for ngram, prob in probabilities.items():\n",
        "    print(' '.join(ngram), \"->\", prob)\n",
        "    probs.append(prob)"
      ],
      "metadata": {
        "colab": {
          "base_uri": "https://localhost:8080/"
        },
        "outputId": "1a2ce443-8106-4fe4-d906-6a7fbdee6427",
        "id": "k5YUR2jKVyrt"
      },
      "execution_count": null,
      "outputs": [
        {
          "output_type": "stream",
          "name": "stdout",
          "text": [
            "Вероятности биграмм:\n",
            "She thinks -> 0.038461538461538464\n",
            "thinks be -> 0.038461538461538464\n",
            "be any -> 0.07692307692307693\n",
            "any the -> 0.038461538461538464\n",
            "the counder. -> 0.038461538461538464\n",
            "counder. I -> 0.038461538461538464\n",
            "I didnt -> 0.038461538461538464\n",
            "didnt the -> 0.038461538461538464\n",
            "the lang -> 0.038461538461538464\n",
            "lang a -> 0.038461538461538464\n",
            "a little -> 0.038461538461538464\n",
            "little but -> 0.038461538461538464\n",
            "but of -> 0.038461538461538464\n",
            "of the -> 0.038461538461538464\n",
            "the side -> 0.038461538461538464\n",
            "side be -> 0.038461538461538464\n",
            "any to -> 0.038461538461538464\n",
            "to go -> 0.038461538461538464\n",
            "go to -> 0.038461538461538464\n",
            "to a -> 0.038461538461538464\n",
            "a strained -> 0.038461538461538464\n",
            "strained to -> 0.038461538461538464\n",
            "to in -> 0.038461538461538464\n",
            "in the -> 0.038461538461538464\n",
            "the s -> 0.038461538461538464\n"
          ]
        }
      ]
    },
    {
      "cell_type": "code",
      "source": [
        "probabilities = probs"
      ],
      "metadata": {
        "id": "RuTA1EPgVyrt"
      },
      "execution_count": null,
      "outputs": []
    },
    {
      "cell_type": "code",
      "source": [
        "perplexity_2 = calculate_perplexity(probabilities)\n",
        "print(\"Perplexity:\", perplexity_2)"
      ],
      "metadata": {
        "colab": {
          "base_uri": "https://localhost:8080/"
        },
        "outputId": "5c260154-9a3f-443c-ebfa-6e93ee45f3ea",
        "id": "Y8UgfzJeVyrt"
      },
      "execution_count": null,
      "outputs": [
        {
          "output_type": "stream",
          "name": "stdout",
          "text": [
            "Perplexity: 25.28902863271946\n"
          ]
        }
      ]
    },
    {
      "cell_type": "code",
      "source": [
        "corpus = text_3\n",
        "\n",
        "n = 2\n",
        "ngram_counts = Counter(ngrams(corpus.split(), n))\n",
        "\n",
        "total_count = sum(ngram_counts.values())\n",
        "probabilities = {ngram: count/total_count for ngram, count in ngram_counts.items()}\n"
      ],
      "metadata": {
        "id": "RGUzMhodVyrt"
      },
      "execution_count": null,
      "outputs": []
    },
    {
      "cell_type": "code",
      "source": [
        "probs = []"
      ],
      "metadata": {
        "id": "TaOC0vwtL0_V"
      },
      "execution_count": null,
      "outputs": []
    },
    {
      "cell_type": "code",
      "source": [
        "print(\"Вероятности биграмм:\")\n",
        "for ngram, prob in probabilities.items():\n",
        "    print(' '.join(ngram), \"->\", prob)\n",
        "    probs.append(prob)"
      ],
      "metadata": {
        "colab": {
          "base_uri": "https://localhost:8080/"
        },
        "outputId": "d5e32311-6234-49da-f5f1-8b782fa73ac6",
        "id": "wpoyIaFiVyru"
      },
      "execution_count": null,
      "outputs": [
        {
          "output_type": "stream",
          "name": "stdout",
          "text": [
            "Вероятности биграмм:\n",
            "In my -> 0.030303030303030304\n",
            "my younger -> 0.030303030303030304\n",
            "younger and -> 0.030303030303030304\n",
            "and the -> 0.030303030303030304\n",
            "the care -> 0.030303030303030304\n",
            "care on -> 0.030303030303030304\n",
            "on the -> 0.030303030303030304\n",
            "the singersting -> 0.030303030303030304\n",
            "singersting to -> 0.030303030303030304\n",
            "to a -> 0.030303030303030304\n",
            "a sid -> 0.030303030303030304\n",
            "sid that -> 0.030303030303030304\n",
            "that I -> 0.030303030303030304\n",
            "I want -> 0.030303030303030304\n",
            "want that -> 0.030303030303030304\n",
            "that and -> 0.030303030303030304\n",
            "and which -> 0.030303030303030304\n",
            "which every, -> 0.030303030303030304\n",
            "every, and -> 0.030303030303030304\n",
            "and for -> 0.030303030303030304\n",
            "for a -> 0.030303030303030304\n",
            "a cound -> 0.030303030303030304\n",
            "cound into -> 0.030303030303030304\n",
            "into the -> 0.030303030303030304\n",
            "the counded -> 0.030303030303030304\n",
            "counded to -> 0.030303030303030304\n",
            "to see -> 0.030303030303030304\n",
            "see tounding -> 0.030303030303030304\n",
            "tounding armusting -> 0.030303030303030304\n",
            "armusting of -> 0.030303030303030304\n",
            "of the -> 0.030303030303030304\n",
            "the dicage -> 0.030303030303030304\n",
            "dicage an -> 0.030303030303030304\n"
          ]
        }
      ]
    },
    {
      "cell_type": "code",
      "source": [
        "probabilities = probs"
      ],
      "metadata": {
        "id": "jPPEYta2Vyru"
      },
      "execution_count": null,
      "outputs": []
    },
    {
      "cell_type": "code",
      "source": [
        "perplexity_3 = calculate_perplexity(probabilities)\n",
        "print(\"Perplexity:\", perplexity_3)"
      ],
      "metadata": {
        "colab": {
          "base_uri": "https://localhost:8080/"
        },
        "outputId": "a3a2d5a5-50c3-4e9f-f50e-e1d74d26ed43",
        "id": "MtdsLmQ5Vyru"
      },
      "execution_count": null,
      "outputs": [
        {
          "output_type": "stream",
          "name": "stdout",
          "text": [
            "Perplexity: 33.00000000000004\n"
          ]
        }
      ]
    },
    {
      "cell_type": "code",
      "source": [
        "corpus = text_4\n",
        "\n",
        "n = 2\n",
        "ngram_counts = Counter(ngrams(corpus.split(), n))\n",
        "\n",
        "total_count = sum(ngram_counts.values())\n",
        "probabilities = {ngram: count/total_count for ngram, count in ngram_counts.items()}\n"
      ],
      "metadata": {
        "id": "ap7apnpCVyru"
      },
      "execution_count": null,
      "outputs": []
    },
    {
      "cell_type": "code",
      "source": [
        "probs = []"
      ],
      "metadata": {
        "id": "-2pteYCeL151"
      },
      "execution_count": null,
      "outputs": []
    },
    {
      "cell_type": "code",
      "source": [
        "print(\"Вероятности биграмм:\")\n",
        "for ngram, prob in probabilities.items():\n",
        "    print(' '.join(ngram), \"->\", prob)\n",
        "    probs.append(prob)"
      ],
      "metadata": {
        "colab": {
          "base_uri": "https://localhost:8080/"
        },
        "outputId": "06509a52-39bb-4942-d977-ea5b09fe040a",
        "id": "tkNlD663Vyru"
      },
      "execution_count": null,
      "outputs": [
        {
          "output_type": "stream",
          "name": "stdout",
          "text": [
            "Вероятности биграмм:\n",
            "I never -> 0.016129032258064516\n",
            "never a -> 0.016129032258064516\n",
            "a letter -> 0.016129032258064516\n",
            "letter on -> 0.016129032258064516\n",
            "on the -> 0.03225806451612903\n",
            "the doom -> 0.016129032258064516\n",
            "doom of -> 0.016129032258064516\n",
            "of the -> 0.016129032258064516\n",
            "the come -> 0.016129032258064516\n",
            "come to -> 0.016129032258064516\n",
            "to a -> 0.016129032258064516\n",
            "a scared -> 0.016129032258064516\n",
            "scared a -> 0.016129032258064516\n",
            "a down -> 0.016129032258064516\n",
            "down her -> 0.016129032258064516\n",
            "her over -> 0.016129032258064516\n",
            "over the -> 0.016129032258064516\n",
            "the traingly -> 0.016129032258064516\n",
            "traingly a -> 0.016129032258064516\n",
            "a cound -> 0.016129032258064516\n",
            "cound the -> 0.016129032258064516\n",
            "the a -> 0.016129032258064516\n",
            "a strance -> 0.016129032258064516\n",
            "strance to -> 0.016129032258064516\n",
            "to the -> 0.016129032258064516\n",
            "the sain -> 0.016129032258064516\n",
            "sain to -> 0.016129032258064516\n",
            "to as -> 0.016129032258064516\n",
            "as the -> 0.03225806451612903\n",
            "the had -> 0.016129032258064516\n",
            "had and -> 0.016129032258064516\n",
            "and the -> 0.06451612903225806\n",
            "the and -> 0.03225806451612903\n",
            "the car -> 0.016129032258064516\n",
            "car she -> 0.016129032258064516\n",
            "she out -> 0.016129032258064516\n",
            "out the -> 0.016129032258064516\n",
            "the one -> 0.016129032258064516\n",
            "one on -> 0.016129032258064516\n",
            "the seement -> 0.016129032258064516\n",
            "seement would -> 0.016129032258064516\n",
            "would and -> 0.016129032258064516\n",
            "the for -> 0.016129032258064516\n",
            "for a -> 0.016129032258064516\n",
            "a said -> 0.016129032258064516\n",
            "said I -> 0.016129032258064516\n",
            "I her -> 0.016129032258064516\n",
            "her as -> 0.016129032258064516\n",
            "as he -> 0.016129032258064516\n",
            "he cound -> 0.016129032258064516\n",
            "cound and -> 0.016129032258064516\n",
            "and seemed -> 0.016129032258064516\n",
            "seemed to -> 0.016129032258064516\n",
            "to go -> 0.016129032258064516\n",
            "go as -> 0.016129032258064516\n",
            "the ca -> 0.016129032258064516\n"
          ]
        }
      ]
    },
    {
      "cell_type": "code",
      "source": [
        "probabilities = probs"
      ],
      "metadata": {
        "id": "2j-mSehCVyrv"
      },
      "execution_count": null,
      "outputs": []
    },
    {
      "cell_type": "code",
      "source": [
        "perplexity_4 = calculate_perplexity(probabilities)\n",
        "print(\"Perplexity:\", perplexity_4)"
      ],
      "metadata": {
        "colab": {
          "base_uri": "https://localhost:8080/"
        },
        "outputId": "df487e4c-2f46-4679-f9eb-9520c6556b82",
        "id": "H3AfU3JBVyrv"
      },
      "execution_count": null,
      "outputs": [
        {
          "output_type": "stream",
          "name": "stdout",
          "text": [
            "Perplexity: 58.27925766886096\n"
          ]
        }
      ]
    },
    {
      "cell_type": "code",
      "source": [
        "corpus = text_5\n",
        "\n",
        "n = 2\n",
        "ngram_counts = Counter(ngrams(corpus.split(), n))\n",
        "\n",
        "total_count = sum(ngram_counts.values())\n",
        "probabilities = {ngram: count/total_count for ngram, count in ngram_counts.items()}\n"
      ],
      "metadata": {
        "id": "77c_MTa1Vyrv"
      },
      "execution_count": null,
      "outputs": []
    },
    {
      "cell_type": "code",
      "source": [
        "probs = []"
      ],
      "metadata": {
        "id": "FBrjDMz3L3S3"
      },
      "execution_count": null,
      "outputs": []
    },
    {
      "cell_type": "code",
      "source": [
        "print(\"Вероятности биграмм:\")\n",
        "for ngram, prob in probabilities.items():\n",
        "    print(' '.join(ngram), \"->\", prob)\n",
        "    probs.append(prob)"
      ],
      "metadata": {
        "colab": {
          "base_uri": "https://localhost:8080/"
        },
        "outputId": "af5f676e-c21c-4c02-db13-82778d127afe",
        "id": "lTZ-YDD8Vyrv"
      },
      "execution_count": null,
      "outputs": [
        {
          "output_type": "stream",
          "name": "stdout",
          "text": [
            "Вероятности биграмм:\n",
            "I never -> 0.00847457627118644\n",
            "never the -> 0.00847457627118644\n",
            "the sobech -> 0.00847457627118644\n",
            "sobech after -> 0.00847457627118644\n",
            "after be -> 0.00847457627118644\n",
            "be and -> 0.00847457627118644\n",
            "and ever -> 0.00847457627118644\n",
            "ever by -> 0.00847457627118644\n",
            "by this -> 0.00847457627118644\n",
            "this in -> 0.00847457627118644\n",
            "in his -> 0.00847457627118644\n",
            "his and -> 0.00847457627118644\n",
            "and shore -> 0.00847457627118644\n",
            "shore and -> 0.00847457627118644\n",
            "and to -> 0.00847457627118644\n",
            "to he -> 0.00847457627118644\n",
            "he was -> 0.00847457627118644\n",
            "was to -> 0.00847457627118644\n",
            "to got -> 0.00847457627118644\n",
            "got that -> 0.00847457627118644\n",
            "that with -> 0.00847457627118644\n",
            "with a -> 0.00847457627118644\n",
            "a seren -> 0.00847457627118644\n",
            "seren of -> 0.00847457627118644\n",
            "of that -> 0.00847457627118644\n",
            "that we -> 0.00847457627118644\n",
            "we were -> 0.00847457627118644\n",
            "were a -> 0.00847457627118644\n",
            "a little -> 0.00847457627118644\n",
            "little beant -> 0.00847457627118644\n",
            "beant a -> 0.00847457627118644\n",
            "a could -> 0.00847457627118644\n",
            "could the -> 0.00847457627118644\n",
            "the and -> 0.00847457627118644\n",
            "and when -> 0.00847457627118644\n",
            "when I -> 0.00847457627118644\n",
            "I had -> 0.01694915254237288\n",
            "had be -> 0.00847457627118644\n",
            "be a -> 0.00847457627118644\n",
            "a strained -> 0.00847457627118644\n",
            "strained the -> 0.00847457627118644\n",
            "the counded -> 0.00847457627118644\n",
            "counded an -> 0.00847457627118644\n",
            "an the -> 0.01694915254237288\n",
            "the compled -> 0.00847457627118644\n",
            "compled by -> 0.00847457627118644\n",
            "by a -> 0.00847457627118644\n",
            "a would -> 0.00847457627118644\n",
            "would of -> 0.00847457627118644\n",
            "of his -> 0.00847457627118644\n",
            "his naid. -> 0.00847457627118644\n",
            "naid. When -> 0.00847457627118644\n",
            "When I -> 0.00847457627118644\n",
            "had the -> 0.00847457627118644\n",
            "the door -> 0.00847457627118644\n",
            "door on -> 0.00847457627118644\n",
            "on the -> 0.00847457627118644\n",
            "the saw -> 0.00847457627118644\n",
            "saw he -> 0.00847457627118644\n",
            "he supped -> 0.00847457627118644\n",
            "supped but -> 0.00847457627118644\n",
            "but the -> 0.01694915254237288\n",
            "the reame -> 0.00847457627118644\n",
            "reame that -> 0.00847457627118644\n",
            "that I -> 0.01694915254237288\n",
            "I see -> 0.00847457627118644\n",
            "see that -> 0.00847457627118644\n",
            "that the -> 0.00847457627118644\n",
            "the cound -> 0.00847457627118644\n",
            "cound to -> 0.00847457627118644\n",
            "to a -> 0.01694915254237288\n",
            "a sound -> 0.00847457627118644\n",
            "sound to -> 0.00847457627118644\n",
            "to to -> 0.00847457627118644\n",
            "to of -> 0.00847457627118644\n",
            "of him -> 0.00847457627118644\n",
            "him before -> 0.00847457627118644\n",
            "before and -> 0.00847457627118644\n",
            "and was -> 0.00847457627118644\n",
            "was a -> 0.00847457627118644\n",
            "a man -> 0.00847457627118644\n",
            "man and -> 0.00847457627118644\n",
            "and the -> 0.00847457627118644\n",
            "the that -> 0.00847457627118644\n",
            "I was -> 0.00847457627118644\n",
            "was an -> 0.00847457627118644\n",
            "the wirned -> 0.00847457627118644\n",
            "wirned the -> 0.00847457627118644\n",
            "the before -> 0.00847457627118644\n",
            "before with -> 0.00847457627118644\n",
            "with the -> 0.00847457627118644\n",
            "the litt -> 0.00847457627118644\n",
            "litt was -> 0.00847457627118644\n",
            "was and -> 0.00847457627118644\n",
            "and down -> 0.00847457627118644\n",
            "down the -> 0.00847457627118644\n",
            "the seef -> 0.00847457627118644\n",
            "seef of -> 0.00847457627118644\n",
            "of the -> 0.00847457627118644\n",
            "the all -> 0.00847457627118644\n",
            "all the -> 0.00847457627118644\n",
            "the sevented -> 0.00847457627118644\n",
            "sevented but -> 0.00847457627118644\n",
            "the could -> 0.00847457627118644\n",
            "could to -> 0.00847457627118644\n",
            "a fare -> 0.00847457627118644\n",
            "fare in -> 0.00847457627118644\n",
            "in a -> 0.00847457627118644\n",
            "a chort -> 0.00847457627118644\n",
            "chort that -> 0.00847457627118644\n",
            "that ever -> 0.00847457627118644\n",
            "ever the -> 0.00847457627118644\n",
            "the darn -> 0.00847457627118644\n"
          ]
        }
      ]
    },
    {
      "cell_type": "code",
      "source": [
        "probabilities = probs"
      ],
      "metadata": {
        "id": "ZG-ep5kQVyrv"
      },
      "execution_count": null,
      "outputs": []
    },
    {
      "cell_type": "code",
      "source": [
        "perplexity_5 = calculate_perplexity(probabilities)\n",
        "print(\"Perplexity:\", perplexity_5)"
      ],
      "metadata": {
        "colab": {
          "base_uri": "https://localhost:8080/"
        },
        "outputId": "23c92c64-1893-4dc8-d3e2-e8bc2488305f",
        "id": "ZsRChg3AVyrw"
      },
      "execution_count": null,
      "outputs": [
        {
          "output_type": "stream",
          "name": "stdout",
          "text": [
            "Perplexity: 114.43584899950885\n"
          ]
        }
      ]
    },
    {
      "cell_type": "code",
      "source": [
        "perplexity_len = [perplexity_1, perplexity_2, perplexity_3, perplexity_4, perplexity_5]"
      ],
      "metadata": {
        "id": "MqhBp6YqYL6P"
      },
      "execution_count": null,
      "outputs": []
    },
    {
      "cell_type": "code",
      "source": [
        "len = [50,100,150,250,500]"
      ],
      "metadata": {
        "id": "03UHX_cbZR9o"
      },
      "execution_count": null,
      "outputs": []
    },
    {
      "cell_type": "code",
      "source": [
        "perplexity_len"
      ],
      "metadata": {
        "colab": {
          "base_uri": "https://localhost:8080/"
        },
        "outputId": "30673fad-c9e1-46dc-92c1-e41c0f18b201",
        "id": "pkEAW3SmYL6Q"
      },
      "execution_count": null,
      "outputs": [
        {
          "output_type": "execute_result",
          "data": {
            "text/plain": [
              "[12.999999999999993,\n",
              " 25.28902863271946,\n",
              " 33.00000000000004,\n",
              " 58.27925766886096,\n",
              " 114.43584899950885]"
            ]
          },
          "metadata": {},
          "execution_count": 80
        }
      ]
    },
    {
      "cell_type": "code",
      "source": [
        "plt.plot(len, perplexity_len)\n",
        "plt.xlabel('Длина')\n",
        "plt.ylabel('Перплексия')\n",
        "plt.grid()"
      ],
      "metadata": {
        "colab": {
          "base_uri": "https://localhost:8080/",
          "height": 449
        },
        "id": "ezXnoiZIaSH2",
        "outputId": "d8b5ed17-0e46-4bec-97aa-8cbd098a8260"
      },
      "execution_count": null,
      "outputs": [
        {
          "output_type": "display_data",
          "data": {
            "text/plain": [
              "<Figure size 640x480 with 1 Axes>"
            ],
            "image/png": "[encoded data removed]"
          },
          "metadata": {}
        }
      ]
    },
    {
      "cell_type": "markdown",
      "source": [
        "Определение потерь"
      ],
      "metadata": {
        "id": "JPDFXs_5HCS-"
      }
    },
    {
      "cell_type": "code",
      "source": [
        "import matplotlib.pyplot as plt\n",
        "plt.plot(history.history['loss'], label = 'Обучение')\n",
        "plt.xlabel('Эпоха обучения')\n",
        "plt.ylabel('Потери')\n",
        "plt.legend()\n",
        "plt.show()"
      ],
      "metadata": {
        "colab": {
          "base_uri": "https://localhost:8080/",
          "height": 449
        },
        "id": "ZyGPsjxelYeu",
        "outputId": "ae98e25a-a1f9-48a0-bacc-3d4e7c28890e"
      },
      "execution_count": null,
      "outputs": [
        {
          "output_type": "display_data",
          "data": {
            "text/plain": [
              "<Figure size 640x480 with 1 Axes>"
            ],
            "image/png": "[encoded data removed]"
          },
          "metadata": {}
        }
      ]
    }
  ]
}